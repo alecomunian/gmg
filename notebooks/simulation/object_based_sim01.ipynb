{
 "cells": [
  {
   "cell_type": "markdown",
   "id": "dbb74993-8312-42fd-83d5-34b32e2aedc0",
   "metadata": {},
   "source": [
    "# Object based simulation - basic example\n",
    "\n",
    "In this notebook we will explore how to simulate random shapes (in this case, simple disks) in a 2D space. Very often, training images used in multiple-point statistics are simulated with the same principles, but with more complex shapes...\n",
    "\n",
    "First of all, we have to import some modules."
   ]
  },
  {
   "cell_type": "code",
   "execution_count": 1,
   "id": "a3c1e06f-ee16-4c56-94e7-da1a148d67f9",
   "metadata": {},
   "outputs": [],
   "source": [
    "import numpy as np\n",
    "import matplotlib.pylab as pl"
   ]
  },
  {
   "cell_type": "markdown",
   "id": "4aef1db0-a378-48fc-bcba-66825f3e877b",
   "metadata": {},
   "source": [
    "## Grid definition\n",
    "\n",
    "It is then useful to define the size of our grid and the number of round objects (`nb_obj`) that we want to simulate."
   ]
  },
  {
   "cell_type": "code",
   "execution_count": 2,
   "id": "715c4c16-e9c3-4a1f-8c01-8e845ff81e9f",
   "metadata": {},
   "outputs": [],
   "source": [
    "# Number of objects\n",
    "nb_obj = 10\n",
    "\n",
    "# Grid definition\n",
    "nx = 300\n",
    "ny = 200\n",
    "ox = 0.0\n",
    "oy = 0.0\n",
    "dx = 1.0\n",
    "dy = 1.0\n",
    "# Coordinates of the grid nodes\n",
    "x, y = np.meshgrid(np.arange(oy,ny*dy,dy), np.arange(ox,nx*dx,dx))"
   ]
  },
  {
   "cell_type": "markdown",
   "id": "690a3aba-fa25-4df5-9f58-d62e71815309",
   "metadata": {},
   "source": [
    "Then, a canvas where to draw our shapes should be defined, that is a matrix that contains `0` where there is no shape, and `1` when a shape is defined. This matrix could become our training image. (note that we could also use all the `Image` objects defined in the library `geone`. However, here, for the moment we do not need all this.)"
   ]
  },
  {
   "cell_type": "code",
   "execution_count": 3,
   "id": "8329ddea-d299-4632-8ceb-8d6c5ac4cd95",
   "metadata": {},
   "outputs": [],
   "source": [
    "ti = np.zeros((nx, ny))"
   ]
  },
  {
   "cell_type": "markdown",
   "id": "39500541-b59a-4aae-938d-a9c39efdac7b",
   "metadata": {},
   "source": [
    "## Random centers of the disks\n",
    "\n",
    "We can then select from a uniform distribution the centers of the disks, and a size for their radius"
   ]
  },
  {
   "cell_type": "code",
   "execution_count": 4,
   "id": "e7e3b93f-420c-4809-b058-d6c597dd1436",
   "metadata": {},
   "outputs": [],
   "source": [
    "np.random.seed(45137)\n",
    "x_obj = np.random.uniform(x.min(), x.max(), nb_obj)\n",
    "y_obj = np.random.uniform(y.min(), y.max(), nb_obj)\n",
    "r = 10"
   ]
  },
  {
   "cell_type": "markdown",
   "id": "4dec3bdc-c4a3-49ab-a090-932daf83c94e",
   "metadata": {},
   "source": [
    "## Simulation\n",
    "\n",
    "It is then easy to define the region included in a circle centered in the point `(x_obj, y_obj)` within a radius `r`:"
   ]
  },
  {
   "cell_type": "code",
   "execution_count": 5,
   "id": "9eab3fde-acdd-443a-8531-2ceaea3399fd",
   "metadata": {},
   "outputs": [],
   "source": [
    "for i in range(nb_obj):\n",
    "    ti[np.where(np.hypot(x-x_obj[i],y-y_obj[i])<r)] = 1"
   ]
  },
  {
   "cell_type": "markdown",
   "id": "df83d349-b801-457c-8448-334834ec9d03",
   "metadata": {},
   "source": [
    "## Plot"
   ]
  },
  {
   "cell_type": "code",
   "execution_count": 6,
   "id": "1af09157-9699-4330-a64c-dffeb72f119c",
   "metadata": {},
   "outputs": [
    {
     "data": {
      "image/png": "[encoded data removed]",
      "text/plain": [
       "<Figure size 640x480 with 1 Axes>"
      ]
     },
     "metadata": {},
     "output_type": "display_data"
    }
   ],
   "source": [
    "pl.imshow(ti.T, origin=\"lower\")\n",
    "pl.show()"
   ]
  },
  {
   "cell_type": "markdown",
   "id": "308efcd6-3c52-4150-8ca7-afb1ab62bb22",
   "metadata": {},
   "source": [
    "## Concluding remarks\n",
    "\n",
    "Starting from this simple example, one can imagine how more complex shapes are simulated (ellipsoids, channels, and so on). Also, here we did not care about any overlapping rules. However, these could also be included with more lines of code. Tools exists to mix also different kind of objects, and so on. See for example the SGeMS pluging [TeTris](https://pangea.stanford.edu/departments/ere/dropbox/scrf/documents/reports/23/SCRF2010_Report23/SCRF2010_06.Boucher_SCRF2010-TI.pdf).\n",
    "\n",
    "## Conditioning\n",
    "\n",
    "One could also imagine some algorithms to include the conditioning to some observation points. This can be for example accomplished by including some rejection criteria, where only the realizations that fullfill some requirements are kept. Nevertheless, in complex situations, this can be very cumbersome in terms of computing time. It is easier to perform first a non-conditional object-based simulation, and then use the obtained simulation (one realization is sufficient) as training image in a multiple-point statistics simulation.\n",
    "\n",
    "### Try yourself\n",
    "\n",
    "1. Try to set a different random seed, and/or a different number of objects or values for the radius of the disks `r`.\n",
    "2. You could also select a radius from a statistical distribution, for example a normal distribution.\n",
    "3. In practical case studies, and in particular if your goal is to create a training image, you will never have the information about the precise number of objects, but instead for example an idea about the proportion of the facies `1`. Modify the script so that the simulation of objects is stopped when a proportions of facies `1` of 20% is reached. "
   ]
  }
 ],
 "metadata": {
  "kernelspec": {
   "display_name": "Python 3 (ipykernel)",
   "language": "python",
   "name": "python3"
  },
  "language_info": {
   "codemirror_mode": {
    "name": "ipython",
    "version": 3
   },
   "file_extension": ".py",
   "mimetype": "text/x-python",
   "name": "python",
   "nbconvert_exporter": "python",
   "pygments_lexer": "ipython3",
   "version": "3.10.12"
  }
 },
 "nbformat": 4,
 "nbformat_minor": 5
}
