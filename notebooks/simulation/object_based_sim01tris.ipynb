{
 "cells": [
  {
   "cell_type": "markdown",
   "id": "dbb74993-8312-42fd-83d5-34b32e2aedc0",
   "metadata": {},
   "source": [
    "# Object based simulation - target proportion\n",
    "\n",
    "This notebook replicates the notebook `object_based_sim01` but with a variable disk radius and a criterion that stops the creation of objects once the target proportion is reached. See that notebook for more details.\n",
    "\n",
    "Import the required modules"
   ]
  },
  {
   "cell_type": "code",
   "execution_count": 1,
   "id": "a3c1e06f-ee16-4c56-94e7-da1a148d67f9",
   "metadata": {},
   "outputs": [],
   "source": [
    "import numpy as np\n",
    "import matplotlib.pylab as pl"
   ]
  },
  {
   "cell_type": "markdown",
   "id": "4aef1db0-a378-48fc-bcba-66825f3e877b",
   "metadata": {},
   "source": [
    "Define the grid and the number of objects. Here the number of objects is only used as upper limit and it is set to a quite big number, to avoid infinite loops. The main criteria used to stop the simulation of objects is the target proportions of facies code `1` (for example, \"sand\")."
   ]
  },
  {
   "cell_type": "code",
   "execution_count": 2,
   "id": "715c4c16-e9c3-4a1f-8c01-8e845ff81e9f",
   "metadata": {},
   "outputs": [],
   "source": [
    "# Target proportion of facies  1\n",
    "target1 = 0.20 # 20%\n",
    "\n",
    "# Number of objects\n",
    "nb_obj = 100\n",
    "\n",
    "# Grid definition\n",
    "nx = 300\n",
    "ny = 200\n",
    "ox = 0.0\n",
    "oy = 0.0\n",
    "dx = 1.0\n",
    "dy = 1.0\n",
    "# Coordinates of the grid nodes\n",
    "x, y = np.meshgrid(np.arange(oy,ny*dy,dy), np.arange(ox,nx*dx,dx))"
   ]
  },
  {
   "cell_type": "markdown",
   "id": "690a3aba-fa25-4df5-9f58-d62e71815309",
   "metadata": {},
   "source": [
    "Define the canvas to store the results of the simulation."
   ]
  },
  {
   "cell_type": "code",
   "execution_count": 3,
   "id": "8329ddea-d299-4632-8ceb-8d6c5ac4cd95",
   "metadata": {},
   "outputs": [],
   "source": [
    "sim = np.zeros((nx, ny))"
   ]
  },
  {
   "cell_type": "markdown",
   "id": "39500541-b59a-4aae-938d-a9c39efdac7b",
   "metadata": {},
   "source": [
    "Randomly place the centers of the disks and the value of the radius"
   ]
  },
  {
   "cell_type": "code",
   "execution_count": 4,
   "id": "268099e4-7175-4075-8c3b-6189073ac781",
   "metadata": {},
   "outputs": [],
   "source": [
    "np.random.seed(45137)\n",
    "x_obj = np.random.uniform(x.min(), x.max(), nb_obj)\n",
    "y_obj = np.random.uniform(y.min(), y.max(), nb_obj)\n",
    "r = np.random.normal(10, 2, nb_obj)"
   ]
  },
  {
   "cell_type": "markdown",
   "id": "4dec3bdc-c4a3-49ab-a090-932daf83c94e",
   "metadata": {},
   "source": [
    "## Simulation\n",
    "\n",
    "Here, at each iteration step we compute the proportion of facies code `1`, and we check if it is bigger than the target proportions."
   ]
  },
  {
   "cell_type": "code",
   "execution_count": 11,
   "id": "9eab3fde-acdd-443a-8531-2ceaea3399fd",
   "metadata": {},
   "outputs": [
    {
     "name": "stdout",
     "output_type": "stream",
     "text": [
      "Proportion of facies 1: 0.21 (step   0)\n",
      "STOP, target proportion reached\n"
     ]
    }
   ],
   "source": [
    "for i in range(nb_obj):\n",
    "    # Step 1 (compute distance from the disk center)\n",
    "    dist = np.hypot(x-x_obj[i],y-y_obj[i])\n",
    "    # Step 2 (check where distance < disk radius)\n",
    "    # NOTE: now `r` is an array too\n",
    "    mask = np.where(dist < r[i])\n",
    "    # Step 3 (set the grid points inside the disk = 1)\n",
    "    sim[mask] = 1\n",
    "    # Compute the proportion of facies 1\n",
    "    # (as we are dealing with a binary matrix, we could also use the following commented syntax.\n",
    "    # prop1 = (np.sum(sim)/sim.size)\n",
    "    prop1 = (np.sum(sim==1)/sim.size)\n",
    "    \n",
    "    print(\"Proportion of facies 1: {0:.2f} (step {1:3d})\".format(prop1, i))\n",
    "    if prop1 > target1:\n",
    "        print(\"STOP, target proportion reached\")\n",
    "        break"
   ]
  },
  {
   "cell_type": "markdown",
   "id": "df83d349-b801-457c-8448-334834ec9d03",
   "metadata": {},
   "source": [
    "## Plot"
   ]
  },
  {
   "cell_type": "code",
   "execution_count": 10,
   "id": "1af09157-9699-4330-a64c-dffeb72f119c",
   "metadata": {},
   "outputs": [
    {
     "data": {
      "image/png": "[encoded data removed]",
      "text/plain": [
       "<Figure size 640x480 with 1 Axes>"
      ]
     },
     "metadata": {},
     "output_type": "display_data"
    }
   ],
   "source": [
    "# \"pimpa\" color map\n",
    "cmap = pl.cm.colors.ListedColormap(['white', 'red'])\n",
    "pl.imshow(sim.T, origin=\"lower\", cmap=cmap)\n",
    "pl.show()"
   ]
  }
 ],
 "metadata": {
  "kernelspec": {
   "display_name": "Python 3 (ipykernel)",
   "language": "python",
   "name": "python3"
  },
  "language_info": {
   "codemirror_mode": {
    "name": "ipython",
    "version": 3
   },
   "file_extension": ".py",
   "mimetype": "text/x-python",
   "name": "python",
   "nbconvert_exporter": "python",
   "pygments_lexer": "ipython3",
   "version": "3.10.12"
  }
 },
 "nbformat": 4,
 "nbformat_minor": 5
}
