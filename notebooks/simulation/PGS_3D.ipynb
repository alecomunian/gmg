{
 "cells": [
  {
   "cell_type": "markdown",
   "id": "f8a958a5-97f9-4520-a86e-ce40bce39e0d",
   "metadata": {},
   "source": [
    "# 3D Pluri-Gaussian simulation\n",
    "\n",
    ">**Note:** This notebook is inspired from the notebook [ex_pgs.ipynb](https://github.com/randlab/geone/blob/master/examples/ex_pgs.ipynb) by Julien Straubhaar.\n",
    "\n",
    "In this notebook we demonstrate a 3D application of pluri-Gaussian simulation (PGS).\n",
    "\n",
    "Some details are omited for the sake of brievity because already explained in the example about 2D PGS.\n",
    "\n",
    "First, import the required modules"
   ]
  },
  {
   "cell_type": "code",
   "execution_count": 1,
   "id": "6f6e2e7a-f076-480f-8fb2-9b909a065a14",
   "metadata": {},
   "outputs": [],
   "source": [
    "import numpy as np\n",
    "import scipy.stats as stats\n",
    "import matplotlib.pyplot as plt\n",
    "import matplotlib\n",
    "# import package 'geone'\n",
    "import geone as gn\n",
    "\n",
    "import pyvista as pv\n",
    "pv.set_jupyter_backend('static') # to get static plots within the jupyter notebook"
   ]
  },
  {
   "cell_type": "markdown",
   "id": "a08c9f93-179a-41ab-b7f2-1b3a35282419",
   "metadata": {},
   "source": [
    "Then, define some categories and colours."
   ]
  },
  {
   "cell_type": "code",
   "execution_count": 2,
   "id": "1d1bfa7f-26ea-4448-99d2-360fa7e1714b",
   "metadata": {},
   "outputs": [],
   "source": [
    "# Categories\n",
    "ncat = 4\n",
    "categVal = np.array([1, 2, 3, 4])\n",
    "\n",
    "# Colours for the plots\n",
    "categCol = ['#a6cee3', '#1f78b4', '#b2df8a', '#33a02c']"
   ]
  },
  {
   "cell_type": "markdown",
   "id": "6d4bb4c6-a690-4115-8469-a259d64675ea",
   "metadata": {},
   "source": [
    "Define the simulation grid"
   ]
  },
  {
   "cell_type": "code",
   "execution_count": 3,
   "id": "95060e37-5d1e-4e0c-9c1b-0e7a6e7188b6",
   "metadata": {},
   "outputs": [],
   "source": [
    "nx, ny, nz = 120, 110, 55   # number of cells\n",
    "sx, sy, sz = 0.5, 0.5, 1.0  # cell unit\n",
    "ox, oy, oz = 0.0, 0.0, 0.0  # origin"
   ]
  },
  {
   "cell_type": "markdown",
   "id": "a99eac59-8d11-4b59-bf00-69a39f5f5615",
   "metadata": {},
   "source": [
    "Define the covariance models for the two latent fields and the \"flag\" function."
   ]
  },
  {
   "cell_type": "code",
   "execution_count": 4,
   "id": "752216b2-bd7d-4a97-a1e3-084ae45aabf6",
   "metadata": {},
   "outputs": [
    {
     "name": "stderr",
     "output_type": "stream",
     "text": [
      "/home/alex/.virtualenvs/gmg/lib/python3.10/site-packages/geone/covModel.py:209: RuntimeWarning: invalid value encountered in scalar power\n",
      "  u1 = (0.5*u)**nu\n"
     ]
    }
   ],
   "source": [
    "# Covariance model T1\n",
    "r_T1 = 1.0*np.array([15.0, 15.0, 15.0])\n",
    "w_T1 = 1.0\n",
    "nu_T1 = 1.5\n",
    "cov_model_T1 = gn.covModel.CovModel3D(elem=[\n",
    "    ('matern', {'w':w_T1, 'r':np.array([gn.covModel.cov_matern_get_r_param(nu_T1, r) for r in r_T1]), 'nu':nu_T1}),\n",
    "    ('nugget', {'w':0.01*w_T1})\n",
    "    ], alpha=0.0, beta=0.0, gamma=0.0, name='cov_model_T1')\n",
    "\n",
    "# Covariance model T2\n",
    "r_T2 = 1.0*np.array([30.0, 10.0, 10.0])\n",
    "w_T2 = 1.0\n",
    "nu_T2 = 1.5\n",
    "cov_model_T2 = gn.covModel.CovModel3D(elem=[\n",
    "    ('matern', {'w':w_T2, 'r':np.array([gn.covModel.cov_matern_get_r_param(nu_T2, r) for r in r_T2]), 'nu':nu_T2}),\n",
    "    ], alpha=-45.0, beta=0.0, gamma=0.0, name='cov_model_T2')\n",
    "\n",
    "# Mean of T1, T2\n",
    "mean_T1 = 0.0\n",
    "mean_T2 = 0.0\n",
    "\n",
    "# \"flag\" function definition\n",
    "def flag_value(x, y):\n",
    "    v0, v1, v2, v3 = categVal\n",
    "    x1 = x < -0.5\n",
    "    y1 = y < -1.\n",
    "    y2 = y < 1.\n",
    "    return v0 * x1 + (1-x1) * (v1 * y1 + (1-y1) * (v2*y2 + v3*(1-y2)))"
   ]
  },
  {
   "cell_type": "markdown",
   "id": "0a509b5f-03c5-400e-b862-af07d79ff476",
   "metadata": {},
   "source": [
    "Define some conditioning data (3D now)"
   ]
  },
  {
   "cell_type": "code",
   "execution_count": 5,
   "id": "2a22461f-9f48-4586-8951-00ec976204d7",
   "metadata": {},
   "outputs": [],
   "source": [
    "x = np.array([[17.25, 15.25, 15.5],\n",
    "              [47.25, 14.25, 23.5],\n",
    "              [31.25, 32.25, 10.5],\n",
    "              [18.25, 49.25, 20.5],\n",
    "              [46.25, 48.25, 40.5]])\n",
    "v = np.array([1, 1, 2, 4, 4])\n",
    "# Define some colours to plot conditioning data\n",
    "v_col = [categCol[np.where(vv ==categVal)[0][0]] for vv in v]"
   ]
  },
  {
   "cell_type": "markdown",
   "id": "98f66c03-e706-48ca-8c90-6744985533ca",
   "metadata": {},
   "source": [
    "Perform 3D PGS"
   ]
  },
  {
   "cell_type": "code",
   "execution_count": 6,
   "id": "196d46a6-e049-44ae-9bc2-cb57640b22a2",
   "metadata": {},
   "outputs": [
    {
     "name": "stdout",
     "output_type": "stream",
     "text": [
      "PLURIGAUSSIANSIM: simulation 1 of 3...\n",
      "PLURIGAUSSIANSIM: simulation 2 of 3...\n",
      "PLURIGAUSSIANSIM: simulation 3 of 3...\n",
      "Number of realizations generated: 3\n",
      "Conditioning data honoured ? True\n"
     ]
    }
   ],
   "source": [
    "# Number of realizations and seed\n",
    "nreal = 3\n",
    "seed_sim = 13454\n",
    "np.random.seed(seed_sim)\n",
    "\n",
    "# Simulation\n",
    "Z, T1, T2, n_cond_ok = gn.pgs.pluriGaussianSim(\n",
    "    cov_model_T1, cov_model_T2, flag_value, (nx, ny, nz), (sx, sy, sz), (ox, oy, oz),\n",
    "    x=x, v=v,\n",
    "    algo_T1='fft', params_T1={'mean':mean_T1},\n",
    "    algo_T2='fft', params_T2={'mean':mean_T2},# 'rangeFactorForExtensionMin':2},\n",
    "    # algo_T1='classic', params_T1={'mean':mean_T1, 'nneighborMax':24}, # alternative algo for T1\n",
    "    # algo_T2='classic', params_T1={'mean':mean_T2, 'nneighborMax':24}, # alternative algo for T2\n",
    "    nreal=nreal,\n",
    "    accept_init=0.75, accept_pow=2.0,\n",
    "    mh_iter_min=100, mh_iter_max=200,\n",
    "    full_output=True,\n",
    "    verbose=4,\n",
    ")\n",
    "\n",
    "print(f'Number of realizations generated: {Z.shape[0]}')\n",
    "\n",
    "# Fill image\n",
    "im_Z = gn.img.Img(nx=nx, ny=ny, nz=nz, sx=sx, sy=sy, sz=sz, ox=ox, oy=oy, oz=oz, nv=Z.shape[0], val=Z)\n",
    "im_T1 = gn.img.Img(nx=nx, ny=ny, nz=nz, sx=sx, sy=sy, sz=sz, ox=ox, oy=oy, oz=oz, nv=T1.shape[0], val=T1)\n",
    "im_T2 = gn.img.Img(nx=nx, ny=ny, nz=nz, sx=sx, sy=sy, sz=sz, ox=ox, oy=oy, oz=oz, nv=T2.shape[0], val=T2)\n",
    "\n",
    "# Check conditioning\n",
    "if x is not None and im_Z.nv > 0:\n",
    "    # Get index of conditioning location in simulation grid\n",
    "    x_grid_index = [gn.img.pointToGridIndex(xx[0], xx[1], xx[2], sx, sy, sz, ox, oy, oz) for xx in x]\n",
    "\n",
    "    # Get value at hard data\n",
    "    im_Z_value_at_x = np.asarray([[im_Z.val[i][grid_index[::-1]] for grid_index in x_grid_index] \n",
    "                                  for i in range(im_Z.nv)])\n",
    "    conditioning_ok = np.all(im_Z_value_at_x == v)\n",
    "    print('Conditioning data honoured ?', conditioning_ok)\n",
    "    if not conditioning_ok:\n",
    "        #print('Conditioning data, peak-to-peak diff:', np.ptp(im_Z_value_at_x - v))\n",
    "        print('Conditioning data, ok at:', 100*np.mean(im_Z_value_at_x == v), '%')"
   ]
  },
  {
   "cell_type": "code",
   "execution_count": 7,
   "id": "f02273a1-ce39-4c04-8ae2-117e5c61039a",
   "metadata": {},
   "outputs": [
    {
     "data": {
      "image/png": "[encoded data removed]",
      "text/plain": [
       "<Figure size 640x480 with 2 Axes>"
      ]
     },
     "metadata": {},
     "output_type": "display_data"
    }
   ],
   "source": [
    "# Plot flag function \n",
    "# ------------\n",
    "ireal = 0 # Select the realization to plot\n",
    "\n",
    "# Fill image for flag\n",
    "# ------------------\n",
    "fnx, fny, fnz = 50, 50, 1\n",
    "fox, foy, foz = im_T1.val[ireal].min(), im_T2.val[ireal].min(), 0.0\n",
    "fsx, fsy, fsz = (im_T1.val[ireal].max() - fox)/fnx, (im_T2.val[ireal].max() - foy)/fny, 1.0\n",
    "fx = fox + (np.arange(fnx)+0.5)*fsx \n",
    "fy = foy + (np.arange(fny)+0.5)*fsy \n",
    "yy, xx = np.meshgrid (fy, fx, indexing='ij')\n",
    "fv = flag_value(xx, yy)\n",
    "im_flag = gn.img.Img(nx=fnx, ny=fny, nz=fnz, sx=fsx, sy=fsy, sz=fsz, ox=fox, oy=foy, oz=foz, nv=1, val=fv)\n",
    "\n",
    "# Plot flag\n",
    "# ---------\n",
    "plt.figure()\n",
    "gn.imgplot.drawImage2D(im_flag, categ=True, categVal=categVal, categCol=categCol)\n",
    "plt.xlabel('T1 value')\n",
    "plt.ylabel('T2 value')\n",
    "plt.title(f'Flag')\n",
    "plt.show()"
   ]
  },
  {
   "cell_type": "markdown",
   "id": "4b897dd3-d4de-49b7-aed3-9d7a3ff72614",
   "metadata": {},
   "source": [
    "## Save a VTK file\n",
    "\n",
    "The results of the simulations can be saved into an external file for further processing (for example, to the define the spatial variability of the hydraulical properties of an aquifer). `geone` allows to save the output on different formats, but one format that can be used to easily visualize the results, in particular when 3D, is Paraview ([www.paraview.org](https://www.paraview.org/))\n",
    "\n",
    "For example, we can save the *Image* object that contains the results of the simulation, that is the variable $Z$."
   ]
  },
  {
   "cell_type": "code",
   "execution_count": 8,
   "id": "1395ae0f-54fc-4b72-93e6-5973e1643f76",
   "metadata": {},
   "outputs": [],
   "source": [
    "gn.img.writeImageVtk(im_Z, \"PGS_Z.vtk\")"
   ]
  },
  {
   "cell_type": "markdown",
   "id": "f4097566-c15f-4fec-9599-bcb18c791aca",
   "metadata": {},
   "source": [
    "And also one of the latent fieds, for example $T_1$"
   ]
  },
  {
   "cell_type": "code",
   "execution_count": 10,
   "id": "217784b7-ac12-4d34-9cb5-000aa17fe402",
   "metadata": {},
   "outputs": [],
   "source": [
    "gn.img.writeImageVtk(im_Z, \"PGS_T1.vtk\")"
   ]
  },
  {
   "cell_type": "markdown",
   "id": "68231698-ba96-4196-94a5-5aaf44e31d34",
   "metadata": {},
   "source": [
    "Note that `geone` also offers the possibility to visualize the results directly in Python, thorough the library `pyvista`, also in interactive mode. Please see the documentation and some example notebooks (like [ex_a_01_image_and_pointset.ipynb](https://github.com/randlab/geone/blob/master/examples/ex_a_01_image_and_pointset.ipynb)) for more details."
   ]
  }
 ],
 "metadata": {
  "kernelspec": {
   "display_name": "Python 3 (ipykernel)",
   "language": "python",
   "name": "python3"
  },
  "language_info": {
   "codemirror_mode": {
    "name": "ipython",
    "version": 3
   },
   "file_extension": ".py",
   "mimetype": "text/x-python",
   "name": "python",
   "nbconvert_exporter": "python",
   "pygments_lexer": "ipython3",
   "version": "3.10.12"
  }
 },
 "nbformat": 4,
 "nbformat_minor": 5
}
