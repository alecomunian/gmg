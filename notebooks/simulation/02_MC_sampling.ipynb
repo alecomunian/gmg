{
 "cells": [
  {
   "cell_type": "markdown",
   "id": "1c2bfd72-493e-45d5-affc-d41a31a56280",
   "metadata": {},
   "source": [
    "# Monte Carlo sampling"
   ]
  },
  {
   "cell_type": "markdown",
   "id": "9c0849fa-910c-4120-986d-1b099be54211",
   "metadata": {},
   "source": [
    "In this simple example, we briefly illustrate one of the principle that is used in SIS to sample a facies code once the probabilities of each possibility is provided.\n",
    "\n",
    "Suppose that your map is classified according to tree facies codes, 1, 2 and 3, with corresponding probabilities `p1` of 20%, `p2` of 70% and `p3` of 10%. How to generate a random value in `(1,2,3)` with the aforementioned probabilities?"
   ]
  },
  {
   "cell_type": "markdown",
   "id": "bf885497-f3a8-4d50-82a0-b2a0d6b4f73b",
   "metadata": {},
   "source": [
    "First, import the required modules and define the aforementioned probabilities."
   ]
  },
  {
   "cell_type": "code",
   "execution_count": 1,
   "id": "95c5539c-116b-44fc-938e-366da25c1095",
   "metadata": {},
   "outputs": [],
   "source": [
    "import numpy.random as nr\n",
    "\n",
    "p1 = 0.2 # 20%\n",
    "p2 = 0.7 # 70%\n",
    "p3 = 0.1 # 10%"
   ]
  },
  {
   "cell_type": "markdown",
   "id": "b9a7c94a-c48f-4ce3-9d81-1622534069a5",
   "metadata": {},
   "source": [
    "Then, draw a random number from a uniform distribution. If no arguments are provided, the function `uniform` returns a random number in the interval $[0,1)$."
   ]
  },
  {
   "cell_type": "code",
   "execution_count": 2,
   "id": "fae67673-168e-44ce-a209-abbdfee9ed9c",
   "metadata": {},
   "outputs": [
    {
     "name": "stdout",
     "output_type": "stream",
     "text": [
      "unif: 0.32103815757800047\n"
     ]
    }
   ],
   "source": [
    "nr.seed(232114)\n",
    "unif = nr.uniform()\n",
    "print(\"unif: {0}\".format(unif))"
   ]
  },
  {
   "cell_type": "markdown",
   "id": "02652563-ef2e-48f3-8347-33353a97a5b6",
   "metadata": {},
   "source": [
    "Finally, select a number according to the probabilities defined above"
   ]
  },
  {
   "cell_type": "code",
   "execution_count": 3,
   "id": "25038cfa-0e0d-4223-b6e2-d58c51e6d581",
   "metadata": {},
   "outputs": [
    {
     "name": "stdout",
     "output_type": "stream",
     "text": [
      "code 2\n"
     ]
    }
   ],
   "source": [
    "if unif < p1:\n",
    "    print(\"code 1\")\n",
    "elif p1 <= unif < (p1+p2):\n",
    "# elif unif < (p1+p2): # A short alternativemodules\n",
    "    print(\"code 2\")\n",
    "else:\n",
    "    print(\"code 3\")"
   ]
  },
  {
   "cell_type": "markdown",
   "id": "3c9ede5e-73a5-45b8-ba31-f1e4dc6e3bc1",
   "metadata": {},
   "source": [
    "## Try yourself\n",
    "\n",
    "- Change the seed.\n",
    "- Change the proportions."
   ]
  },
  {
   "cell_type": "markdown",
   "id": "b27407ac-bdcc-4495-98f8-63bfa6d6cf95",
   "metadata": {
    "jp-MarkdownHeadingCollapsed": true
   },
   "source": [
    "## (A brief recall about random numbers)"
   ]
  },
  {
   "cell_type": "code",
   "execution_count": 4,
   "id": "eb3d494c-def8-4c2e-b84e-04313011b2e8",
   "metadata": {},
   "outputs": [
    {
     "data": {
      "image/png": "[encoded data removed]",
      "text/plain": [
       "<Figure size 640x480 with 1 Axes>"
      ]
     },
     "metadata": {},
     "output_type": "display_data"
    }
   ],
   "source": [
    "import matplotlib.pylab as pl\n",
    "nr.seed(4654651)\n",
    "pl.hist(nr.uniform(0,1,1000), edgecolor=\"black\", bins=30)\n",
    "pl.show()"
   ]
  }
 ],
 "metadata": {
  "kernelspec": {
   "display_name": "Python 3 (ipykernel)",
   "language": "python",
   "name": "python3"
  },
  "language_info": {
   "codemirror_mode": {
    "name": "ipython",
    "version": 3
   },
   "file_extension": ".py",
   "mimetype": "text/x-python",
   "name": "python",
   "nbconvert_exporter": "python",
   "pygments_lexer": "ipython3",
   "version": "3.10.12"
  }
 },
 "nbformat": 4,
 "nbformat_minor": 5
}
