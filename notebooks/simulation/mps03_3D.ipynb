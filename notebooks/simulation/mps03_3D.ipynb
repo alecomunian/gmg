{
 "cells": [
  {
   "cell_type": "markdown",
   "metadata": {},
   "source": [
    "# 3D MPS\n",
    "\n",
    "> **Note** This notebook is inspired by the notebook [ex_deesse_01_basics.ipynb](https://github.com/randlab/geone/blob/master/examples/ex_deesse_01_basics.ipynb), by Julien Straubhaar.\n",
    "\n",
    "In this notebook we illustrate how to perform MPS in 3D.\n",
    "\n",
    "Import the required modules."
   ]
  },
  {
   "cell_type": "code",
   "execution_count": 1,
   "metadata": {},
   "outputs": [],
   "source": [
    "import numpy as np\n",
    "import matplotlib.pyplot as plt\n",
    "import os\n",
    "import pyevtk.hl as ph\n",
    "\n",
    "# import package 'geone'\n",
    "import geone as gn"
   ]
  },
  {
   "cell_type": "markdown",
   "metadata": {},
   "source": [
    "## 3D Training image\n",
    "Load from the file 'ti_3d.txt', and print out some useful information."
   ]
  },
  {
   "cell_type": "code",
   "execution_count": 2,
   "metadata": {},
   "outputs": [
    {
     "data": {
      "text/plain": [
       "*** Img object ***\n",
       "name = 'ti_3d.txt'\n",
       "(nx, ny, nz) = (100, 90, 80) # number of cells along each axis\n",
       "(sx, sy, sz) = (1.0, 1.0, 1.0) # cell size (spacing) along each axis\n",
       "(ox, oy, oz) = (0.5, 0.5, 0.5) # origin (coordinates of bottom-lower-left corner)\n",
       "nv = 1  # number of variable(s)\n",
       "varname = ['data']\n",
       "val: (1, 80, 90, 100)-array\n",
       "*****"
      ]
     },
     "execution_count": 2,
     "metadata": {},
     "output_type": "execute_result"
    }
   ],
   "source": [
    "ti3d = gn.img.readImageTxt('ti_3d.txt')\n",
    "ti3d"
   ]
  },
  {
   "cell_type": "markdown",
   "metadata": {},
   "source": [
    "### Saving the 3D TI as VTI file\n",
    "\n",
    "To visualize the input TI, we can save it as a VTI file to be read with Paraview. You can also visualize it directly in a Python notebook (for more on this, please refer to the script [ex_deesse_01_basics.ipynb](https://github.com/randlab/geone/blob/master/examples/ex_deesse_01_basics.ipynb))"
   ]
  },
  {
   "cell_type": "code",
   "execution_count": 3,
   "metadata": {},
   "outputs": [
    {
     "data": {
      "text/plain": [
       "'/home/alex/workspace/dev/binder/gmg/notebooks/simulation/ti3d.vti'"
      ]
     },
     "execution_count": 3,
     "metadata": {},
     "output_type": "execute_result"
    }
   ],
   "source": [
    "origin = (ti3d.ox, ti3d.oy, ti3d.oz)\n",
    "spacing = (ti3d.sx, ti3d.sy, ti3d.sz)\n",
    "cellData = {} # An empty dictionary\n",
    "for i in range(ti3d.nv):\n",
    "    # Fill the dictionary with keys as variable names, and content as the input TI\n",
    "    cellData[ti3d.varname[i]] = ti3d.val[i,:,:,:]\n",
    "# Save the VTI file\n",
    "ph.imageToVTK(\"./ti3d\", cellData=cellData, origin=origin, spacing=spacing) # No need to define explicitly the file extension VTI"
   ]
  },
  {
   "cell_type": "markdown",
   "metadata": {},
   "source": [
    "## Collect some useful info\n",
    "\n",
    "You can also collect the unique values contained in the TI."
   ]
  },
  {
   "cell_type": "code",
   "execution_count": 4,
   "metadata": {},
   "outputs": [
    {
     "data": {
      "text/plain": [
       "array([1., 2., 3.])"
      ]
     },
     "execution_count": 4,
     "metadata": {},
     "output_type": "execute_result"
    }
   ],
   "source": [
    "facies = ti3d.get_unique()\n",
    "facies"
   ]
  },
  {
   "cell_type": "markdown",
   "metadata": {},
   "source": [
    "## 3D Simulation grid\n",
    "\n",
    "Define the simulation grid (number of cells in each direction, cell unit, origin). Note that the size of the cells is the same as the TI."
   ]
  },
  {
   "cell_type": "code",
   "execution_count": 5,
   "metadata": {},
   "outputs": [],
   "source": [
    "nx, ny, nz = 60, 60, 60          # number of cells\n",
    "sx, sy, sz = ti3d.sx, ti3d.sy, ti3d.sz # cell unit\n",
    "ox, oy, oz = 0.0, 0.0, 0.0       # origin (corner of the \"first\" grid cell)\n",
    "\n",
    "origin = (ox, oy, oz)\n",
    "spacing = (sx, sy, sz)"
   ]
  },
  {
   "cell_type": "markdown",
   "metadata": {},
   "source": [
    "### Hard data (point set)\n",
    "\n",
    "Define some conditioning data."
   ]
  },
  {
   "cell_type": "code",
   "execution_count": 6,
   "metadata": {},
   "outputs": [],
   "source": [
    "npt = 3 # number of points\n",
    "nv = 4  # number of variables including x, y, z coordinates\n",
    "varname = ['x', 'y', 'z', 'code'] # list of variable names\n",
    "v = np.array([\n",
    "    [ 15.5,  45.5, 50.5, 1], # x, y, z, code: 1st point\n",
    "    [ 47.5,  10.5, 48.5, 2], # ...\n",
    "    [ 27.5,  28.5,  5.5, 3]\n",
    "    ]).T # variable values: (nv, npt)-array\n",
    "hd = gn.img.PointSet(npt=npt, nv=nv, varname=varname, val=v)"
   ]
  },
  {
   "cell_type": "markdown",
   "metadata": {},
   "source": [
    "We can save these values in a VTI file image with the same size as the simulation grid, made of NaN values everywhere, exept in the defined points."
   ]
  },
  {
   "cell_type": "code",
   "execution_count": 7,
   "metadata": {},
   "outputs": [
    {
     "data": {
      "text/plain": [
       "'/home/alex/workspace/dev/binder/gmg/notebooks/simulation/hd.vti'"
      ]
     },
     "execution_count": 7,
     "metadata": {},
     "output_type": "execute_result"
    }
   ],
   "source": [
    "cellData = {}\n",
    "cellData[\"code\"] = np.nan*np.ones((nz, ny, nx))\n",
    "# Add the hard data to the NaN image\n",
    "for ii in range(3):\n",
    "    i = int(v[0][ii]/sx - 0.5*sx - ox)\n",
    "    j = int(v[1][ii]/sy - 0.5*sy - oy)\n",
    "    k = int(v[2][ii]/sz - 0.5*sz - oz)\n",
    "    cellData[\"code\"][k,j,i] = v[3][ii]\n",
    "# Save the VTI file\n",
    "ph.imageToVTK(\"./hd\", cellData=cellData, origin=origin, spacing=spacing) # No need to define explicitly the file extension VTI"
   ]
  },
  {
   "cell_type": "markdown",
   "metadata": {},
   "source": [
    "## 3D MPS simulation\n",
    "\n",
    "First of all, define some input parameters."
   ]
  },
  {
   "cell_type": "code",
   "execution_count": 8,
   "metadata": {},
   "outputs": [],
   "source": [
    "# Set input for deesse\n",
    "pyrGenParams = gn.deesseinterface.PyramidGeneralParameters(\n",
    "    npyramidLevel=2,\n",
    "    kx=[2, 2], ky=[2, 2], kz=[2, 2]\n",
    ")\n",
    "\n",
    "pyrParams = gn.deesseinterface.PyramidParameters(\n",
    "    nlevel=2,\n",
    "    pyramidType='categorical_auto'\n",
    ")\n",
    "\n",
    "nreal = 3\n",
    "\n",
    "deesse_input = gn.deesseinterface.DeesseInput(\n",
    "    nx=nx, ny=ny, nz=nz,\n",
    "    sx=sx, sy=sy, sz=sz,\n",
    "    ox=ox, oy=oy, oz=oz,\n",
    "    nv=1, varname='code',\n",
    "    TI=ti3d,\n",
    "    dataPointSet=hd,\n",
    "    nneighboringNode=24,\n",
    "    distanceThreshold=0.02,\n",
    "    maxScanFraction=0.02,\n",
    "    pyramidGeneralParameters=pyrGenParams,\n",
    "    pyramidParameters=pyrParams,\n",
    "    npostProcessingPathMax=1,\n",
    "    seed=444,\n",
    "    nrealization=nreal)"
   ]
  },
  {
   "cell_type": "markdown",
   "metadata": {},
   "source": [
    "Then, run the DS algorithm"
   ]
  },
  {
   "cell_type": "code",
   "execution_count": 9,
   "metadata": {},
   "outputs": [
    {
     "name": "stdout",
     "output_type": "stream",
     "text": [
      "DeeSse running... [VERSION 3.2 / BUILD NUMBER 20230914 / OpenMP 11 thread(s)]\n",
      "DeeSse run complete\n"
     ]
    }
   ],
   "source": [
    "deesse_output = gn.deesseinterface.deesseRun(deesse_input, nthreads=4)"
   ]
  },
  {
   "cell_type": "markdown",
   "metadata": {},
   "source": [
    "## Retrieve and save the results to a VTI file"
   ]
  },
  {
   "cell_type": "code",
   "execution_count": 11,
   "metadata": {},
   "outputs": [
    {
     "data": {
      "text/plain": [
       "'/home/alex/workspace/dev/binder/gmg/notebooks/simulation/mps03_3D_sim.vti'"
      ]
     },
     "execution_count": 11,
     "metadata": {},
     "output_type": "execute_result"
    }
   ],
   "source": [
    "# Retrieve the realization\n",
    "sim = deesse_output['sim']\n",
    "# Empy dictionary to contain the results\n",
    "cellData = {}\n",
    "for i in range(sim.size):\n",
    "    # Loop on all the realizations\n",
    "    cellData[sim[i].varname[0]] = sim[i].val[0,:,:,:]\n",
    "# Save the results into a VTI file\n",
    "ph.imageToVTK(\"./mps03_3D_sim\", cellData=cellData, origin=origin, spacing=spacing) # No need to define explicitly the file extension VTI"
   ]
  }
 ],
 "metadata": {
  "kernelspec": {
   "display_name": "Python 3 (ipykernel)",
   "language": "python",
   "name": "python3"
  },
  "language_info": {
   "codemirror_mode": {
    "name": "ipython",
    "version": 3
   },
   "file_extension": ".py",
   "mimetype": "text/x-python",
   "name": "python",
   "nbconvert_exporter": "python",
   "pygments_lexer": "ipython3",
   "version": "3.10.12"
  }
 },
 "nbformat": 4,
 "nbformat_minor": 4
}
