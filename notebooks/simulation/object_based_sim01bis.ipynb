{
 "cells": [
  {
   "cell_type": "markdown",
   "id": "dbb74993-8312-42fd-83d5-34b32e2aedc0",
   "metadata": {},
   "source": [
    "# Object based simulation - variable disk radius\n",
    "\n",
    "This notebook replicates the notebook `object_based_sim01` but with a variable disk radius, following a Gaussian distribution. See that notebook for more details.\n",
    "\n",
    "Import the required modules"
   ]
  },
  {
   "cell_type": "code",
   "execution_count": 1,
   "id": "a3c1e06f-ee16-4c56-94e7-da1a148d67f9",
   "metadata": {},
   "outputs": [],
   "source": [
    "import numpy as np\n",
    "import matplotlib.pylab as pl"
   ]
  },
  {
   "cell_type": "markdown",
   "id": "4aef1db0-a378-48fc-bcba-66825f3e877b",
   "metadata": {},
   "source": [
    "Define the grid and the number of objects."
   ]
  },
  {
   "cell_type": "code",
   "execution_count": 2,
   "id": "715c4c16-e9c3-4a1f-8c01-8e845ff81e9f",
   "metadata": {},
   "outputs": [],
   "source": [
    "# Number of objects\n",
    "nb_obj = 10\n",
    "\n",
    "# Grid definition\n",
    "nx = 300\n",
    "ny = 200\n",
    "ox = 0.0\n",
    "oy = 0.0\n",
    "dx = 1.0\n",
    "dy = 1.0\n",
    "# Coordinates of the grid nodes\n",
    "x, y = np.meshgrid(np.arange(oy,ny*dy,dy), np.arange(ox,nx*dx,dx))"
   ]
  },
  {
   "cell_type": "markdown",
   "id": "690a3aba-fa25-4df5-9f58-d62e71815309",
   "metadata": {},
   "source": [
    "Define the canvas to store the results of the simulation."
   ]
  },
  {
   "cell_type": "code",
   "execution_count": 3,
   "id": "8329ddea-d299-4632-8ceb-8d6c5ac4cd95",
   "metadata": {},
   "outputs": [],
   "source": [
    "sim = np.zeros((nx, ny))"
   ]
  },
  {
   "cell_type": "markdown",
   "id": "39500541-b59a-4aae-938d-a9c39efdac7b",
   "metadata": {},
   "source": [
    "Randomly place the centers of the disks"
   ]
  },
  {
   "cell_type": "code",
   "execution_count": 4,
   "id": "268099e4-7175-4075-8c3b-6189073ac781",
   "metadata": {},
   "outputs": [],
   "source": [
    "np.random.seed(45137)\n",
    "x_obj = np.random.uniform(x.min(), x.max(), nb_obj)\n",
    "y_obj = np.random.uniform(y.min(), y.max(), nb_obj)"
   ]
  },
  {
   "cell_type": "markdown",
   "id": "b8303a5d-b9dd-4bad-95f2-31704d29cced",
   "metadata": {},
   "source": [
    "## Variable radius\n",
    "\n",
    "Hereinafter the only difference from the notebook `object_based_sim01`, that is a radius `r` variable for each disk, following a Gaussian distribution with parameters 10 and 2."
   ]
  },
  {
   "cell_type": "code",
   "execution_count": 5,
   "id": "fd2214d5-1315-41b3-9120-62c793629eff",
   "metadata": {},
   "outputs": [],
   "source": [
    "r = np.random.normal(10, 2, nb_obj)"
   ]
  },
  {
   "cell_type": "markdown",
   "id": "4dec3bdc-c4a3-49ab-a090-932daf83c94e",
   "metadata": {},
   "source": [
    "## Simulation\n",
    "\n",
    "Note now that `r` is an array, therefore  we use  `r[i]` in place of `r` in the `for` loop"
   ]
  },
  {
   "cell_type": "code",
   "execution_count": 6,
   "id": "9eab3fde-acdd-443a-8531-2ceaea3399fd",
   "metadata": {},
   "outputs": [],
   "source": [
    "for i in range(nb_obj):\n",
    "    # Step 1 (compute distance from the disk center)\n",
    "    dist = np.hypot(x-x_obj[i],y-y_obj[i])\n",
    "    # Step 2 (check where distance < disk radius)\n",
    "    # NOTE: now `r` is an array too\n",
    "    mask = np.where(dist < r[i])\n",
    "    # Step 3 (set the grid points inside the disk = 1)\n",
    "    sim[mask] = 1"
   ]
  },
  {
   "cell_type": "markdown",
   "id": "df83d349-b801-457c-8448-334834ec9d03",
   "metadata": {},
   "source": [
    "## Plot"
   ]
  },
  {
   "cell_type": "code",
   "execution_count": 7,
   "id": "1af09157-9699-4330-a64c-dffeb72f119c",
   "metadata": {},
   "outputs": [
    {
     "data": {
      "image/png": "[encoded data removed]",
      "text/plain": [
       "<Figure size 640x480 with 1 Axes>"
      ]
     },
     "metadata": {},
     "output_type": "display_data"
    }
   ],
   "source": [
    "pl.imshow(sim.T, origin=\"lower\")\n",
    "pl.show()"
   ]
  },
  {
   "cell_type": "markdown",
   "id": "24fc0146-cf22-4f4e-ab56-c39292f0e7da",
   "metadata": {},
   "source": [
    "Now the radius of all the disks varies according to a Gaussian distribution.\n",
    "\n",
    "## Concluding remarks\n",
    "\n",
    "Note that in cases of more complex shapes (objects, or \"geobodies\"), for example in the case of channels in a fluvial environment, one can have statistical distributions of channel width, height, sinuosity, etc, extracted from the information contained in lithological logs, geophysical surveys, analog environments, and so on."
   ]
  }
 ],
 "metadata": {
  "kernelspec": {
   "display_name": "Python 3 (ipykernel)",
   "language": "python",
   "name": "python3"
  },
  "language_info": {
   "codemirror_mode": {
    "name": "ipython",
    "version": 3
   },
   "file_extension": ".py",
   "mimetype": "text/x-python",
   "name": "python",
   "nbconvert_exporter": "python",
   "pygments_lexer": "ipython3",
   "version": "3.10.12"
  }
 },
 "nbformat": 4,
 "nbformat_minor": 5
}
