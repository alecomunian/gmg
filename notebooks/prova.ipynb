{
 "cells": [
  {
   "cell_type": "markdown",
   "id": "ed5f8ec5",
   "metadata": {},
   "source": [
    "# Sezione\n",
    "prova prova\n",
    "\n",
    "## Sotto sezione\n",
    "ciao ciao"
   ]
  },
  {
   "cell_type": "code",
   "execution_count": null,
   "id": "912cc901",
   "metadata": {},
   "outputs": [],
   "source": [
    "print(\"Ciao mondo!\")"
   ]
  },
  {
   "cell_type": "code",
   "execution_count": 1,
   "id": "b6f5f059",
   "metadata": {},
   "outputs": [],
   "source": [
    "import matplotlib.pylab as pl\n"
   ]
  },
  {
   "cell_type": "code",
   "execution_count": null,
   "id": "747f5d99",
   "metadata": {},
   "outputs": [],
   "source": [
    "pl.plot([1,2,3])\n",
    "pl.show()"
   ]
  }
 ],
 "metadata": {
  "kernelspec": {
   "display_name": "Python 3 (ipykernel)",
   "language": "python",
   "name": "python3"
  },
  "language_info": {
   "codemirror_mode": {
    "name": "ipython",
    "version": 3
   },
   "file_extension": ".py",
   "mimetype": "text/x-python",
   "name": "python",
   "nbconvert_exporter": "python",
   "pygments_lexer": "ipython3",
   "version": "3.10.12"
  }
 },
 "nbformat": 4,
 "nbformat_minor": 5
}
