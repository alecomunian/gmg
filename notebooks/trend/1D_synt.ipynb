{
 "cells": [
  {
   "cell_type": "markdown",
   "id": "5d912b7c",
   "metadata": {},
   "source": [
    "# 1D trend with a syntetic example\n",
    "\n",
    "In this notebook we will demonstrate, with a simple 1D example, how to remove trend from some data and apply *Locally varying mean Kriging*.\n",
    "\n",
    "## Overall workflow\n",
    "\n",
    "These are the main steps in performing locally varying mean Kriging:\n",
    "\n",
    "1. \n"
   ]
  },
  {
   "cell_type": "markdown",
   "id": "e7b6a5b2",
   "metadata": {},
   "source": [
    "First of all, let's import some modules"
   ]
  },
  {
   "cell_type": "code",
   "execution_count": 3,
   "id": "6659d78f",
   "metadata": {},
   "outputs": [],
   "source": [
    "import numpy as np\n",
    "import matplotlib.pylab as pl\n",
    "import gstools as gs\n",
    "import scipy.interpolate as si"
   ]
  },
  {
   "cell_type": "markdown",
   "id": "89f3611e",
   "metadata": {},
   "source": [
    "## Load and plot input data\n",
    "\n",
    "The next step is to import the data, which consist in a file containing two columns: one contains the $x$ coordinate, the other the variable to be interpolated $v$. There is no header, and the file (`samples.txt`) should contain 80 lines."
   ]
  },
  {
   "cell_type": "code",
   "execution_count": 5,
   "id": "f58d5c42",
   "metadata": {},
   "outputs": [],
   "source": [
    "x, v = np.loadtxt(\"1D_synt_samples.txt\", unpack=True)"
   ]
  },
  {
   "cell_type": "code",
   "execution_count": 6,
   "id": "66d0c128",
   "metadata": {},
   "outputs": [
    {
     "data": {
      "text/plain": [
       "array([  0.,   0.,   9.,  12.,  23.,  25.,  26.,  36.,  37.,  45.,  51.,\n",
       "        52.,  56.,  67.,  67.,  83.,  92.,  93., 100., 102., 102., 112.,\n",
       "       127., 141., 143., 144., 152., 158., 163., 165., 170., 172., 174.,\n",
       "       177., 190., 190., 198., 205., 207., 213., 213., 214., 222., 222.,\n",
       "       223., 228., 229., 234., 248., 255., 257., 264., 264., 270., 271.,\n",
       "       278., 278., 279., 287., 288., 294., 297., 299., 302., 304., 309.,\n",
       "       315., 347., 348., 351., 352., 354., 361., 365., 367., 372., 375.,\n",
       "       388., 392., 394.])"
      ]
     },
     "execution_count": 6,
     "metadata": {},
     "output_type": "execute_result"
    }
   ],
   "source": [
    "x"
   ]
  },
  {
   "cell_type": "code",
   "execution_count": null,
   "id": "68231234",
   "metadata": {},
   "outputs": [],
   "source": []
  }
 ],
 "metadata": {
  "kernelspec": {
   "display_name": "Python 3 (ipykernel)",
   "language": "python",
   "name": "python3"
  },
  "language_info": {
   "codemirror_mode": {
    "name": "ipython",
    "version": 3
   },
   "file_extension": ".py",
   "mimetype": "text/x-python",
   "name": "python",
   "nbconvert_exporter": "python",
   "pygments_lexer": "ipython3",
   "version": "3.10.12"
  }
 },
 "nbformat": 4,
 "nbformat_minor": 5
}
